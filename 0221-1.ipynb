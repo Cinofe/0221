{
 "cells": [
  {
   "cell_type": "code",
   "execution_count": 1,
   "id": "abe9c2e0",
   "metadata": {},
   "outputs": [
    {
     "name": "stdout",
     "output_type": "stream",
     "text": [
      "hello world\n"
     ]
    }
   ],
   "source": [
    "print('hello world')"
   ]
  },
  {
   "cell_type": "code",
   "execution_count": 1,
   "id": "6aebd71a",
   "metadata": {},
   "outputs": [
    {
     "ename": "SyntaxError",
     "evalue": "invalid syntax (400831779.py, line 1)",
     "output_type": "error",
     "traceback": [
      "\u001b[0;36m  Cell \u001b[0;32mIn[1], line 1\u001b[0;36m\u001b[0m\n\u001b[0;31m    name = input('Name':)\u001b[0m\n\u001b[0m                       ^\u001b[0m\n\u001b[0;31mSyntaxError\u001b[0m\u001b[0;31m:\u001b[0m invalid syntax\n"
     ]
    }
   ],
   "source": [
    "name = input('Name':)"
   ]
  },
  {
   "cell_type": "code",
   "execution_count": 2,
   "id": "daa36c66",
   "metadata": {},
   "outputs": [
    {
     "name": "stdout",
     "output_type": "stream",
     "text": [
      "Name : Cinofe\n"
     ]
    }
   ],
   "source": [
    "name = input('Name : ')"
   ]
  },
  {
   "cell_type": "code",
   "execution_count": 3,
   "id": "760831c3",
   "metadata": {},
   "outputs": [
    {
     "name": "stdout",
     "output_type": "stream",
     "text": [
      "Cinofe\n"
     ]
    }
   ],
   "source": [
    "print(name)"
   ]
  },
  {
   "cell_type": "code",
   "execution_count": 4,
   "id": "74fefeee",
   "metadata": {},
   "outputs": [],
   "source": [
    "num1 = 50\n",
    "num2 = 100"
   ]
  },
  {
   "cell_type": "code",
   "execution_count": 7,
   "id": "f0c0174b",
   "metadata": {},
   "outputs": [
    {
     "name": "stdout",
     "output_type": "stream",
     "text": [
      "50 + 100 = 150\n",
      "50 - 100 = -50\n",
      "50 x 100 = 5000\n",
      "50 / 100 = 0.5\n",
      "50 // 100 = 0\n",
      "50 % 100 = 50\n"
     ]
    }
   ],
   "source": [
    "print(f'{num1} + {num2} = {num1 + num2}')\n",
    "print(f'{num1} - {num2} = {num1 - num2}')\n",
    "print(f'{num1} x {num2} = {num1 * num2}')\n",
    "print(f'{num1} / {num2} = {num1 / num2}')\n",
    "print(f'{num1} // {num2} = {num1 // num2}')\n",
    "print(f'{num1} % {num2} = {num1 % num2}')"
   ]
  },
  {
   "cell_type": "code",
   "execution_count": 8,
   "id": "7e5866b8",
   "metadata": {},
   "outputs": [
    {
     "name": "stdout",
     "output_type": "stream",
     "text": [
      "사각형의 가로 : 35\n",
      "사각형의 세로 : 67\n"
     ]
    }
   ],
   "source": [
    "width = int(input('사각형의 가로 : '))\n",
    "height = int(input('사각형의 세로 : '))"
   ]
  },
  {
   "cell_type": "code",
   "execution_count": 14,
   "id": "25e5fa5c",
   "metadata": {},
   "outputs": [
    {
     "name": "stdout",
     "output_type": "stream",
     "text": [
      "사각형의 넓이는 2345 입니다.\n"
     ]
    }
   ],
   "source": [
    "print(f'사각형의 넓이는 {width*height} 입니다.')"
   ]
  },
  {
   "cell_type": "code",
   "execution_count": null,
   "id": "7c4dabdd",
   "metadata": {},
   "outputs": [],
   "source": []
  }
 ],
 "metadata": {
  "kernelspec": {
   "display_name": "Python 3 (ipykernel)",
   "language": "python",
   "name": "python3"
  },
  "language_info": {
   "codemirror_mode": {
    "name": "ipython",
    "version": 3
   },
   "file_extension": ".py",
   "mimetype": "text/x-python",
   "name": "python",
   "nbconvert_exporter": "python",
   "pygments_lexer": "ipython3",
   "version": "3.10.6"
  }
 },
 "nbformat": 4,
 "nbformat_minor": 5
}
